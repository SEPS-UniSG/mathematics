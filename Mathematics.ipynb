{
  "nbformat": 4,
  "nbformat_minor": 0,
  "metadata": {
    "colab": {
      "name": "Mathematics.ipynb",
      "provenance": [],
      "collapsed_sections": [],
      "toc_visible": true
    },
    "kernelspec": {
      "name": "ir",
      "display_name": "R"
    },
    "language_info": {
      "name": "R"
    }
  },
  "cells": [
    {
      "cell_type": "markdown",
      "metadata": {
        "id": "Nbn72DyaamE8"
      },
      "source": [
        "# Modern Portfolio Theory: An Application of Selected Topics\n",
        "## 7,300,1 Mathematics\n",
        "### Enrico G. De Giorgi"
      ]
    },
    {
      "cell_type": "markdown",
      "metadata": {
        "id": "I0DwqeW0ah24"
      },
      "source": [
        "<a name=\"section-1\"></a>\n",
        "## 1 Theoretical setting\n",
        "In what follows, we consider an investor, who is looking for an optimal way to allocate her wealth to $N$ financial assets. The investor has a specific investment horizon $T$ in mind, so the relevant portfolio returns are between time $0$ (today) and $T$ (investment horizon)."
      ]
    },
    {
      "cell_type": "markdown",
      "metadata": {
        "id": "mxwsIX95cbkt"
      },
      "source": [
        "#### Returns\n",
        "We denote by $R_i$ the random variable that describes the return of asset $i$ between $0$ and $T$, for $i=1, \\dots, N$. We also define the following quantities, that are useful to formalize the portfolio selection problem:  \n",
        "+ $\\mu_i = \\mathbb{E}[R_i]$, the expected return of asset $i$.\n",
        "+ $\\sigma_i = \\sqrt{\\mathbb{E}[(R_i-\\mu_i)^2]}$, the standard deviation of the return of asset $i$.\n",
        "+ $\\sigma_{i,j}= \\mathbb{E}[(R_i - \\mu_i)(R_j - \\mu_j)]$, the covariance between the return of asset $i$ and the return of asset $j$. Clearly, $\\sigma_{i,i} = \\sigma_i^2$.\n",
        "\n",
        " For the sake of notational simplicity, we define the vector $\\mathbf{\\mu} = (\\mu_1, \\dots, \\mu_N)^\\top$ as the vector of expected returns and the $N \\times N$ matrix $V$ as the variance-covariance matrix such that $V_{i,j} = \\sigma_{i,j}$."
      ]
    },
    {
      "cell_type": "markdown",
      "metadata": {
        "id": "D0VeEzIScbnT"
      },
      "source": [
        "#### Portfolios\n",
        "A portfolio is characterized by the relative amount invested in each asset. If the investor invests a total of $W_0 > 0$ at time $0$ and $W_{0,i}$ is the amount allocated to asset $i$ for $i = 1, \\dots, N$ such that $W_0 = \\sum_{i=1}^N W_{0,i}$ (the budget constraint), then the quantities of interest are the portfolio weights $w_i = \\frac{W_{0,i}}{W_0}$. Clearly, \n",
        "\n",
        "$$\\sum_{i=1}^N w_i = \\sum_{i=1}^N \\frac{W_{0,i}}{W_0}= \\frac{1}{W_0} \\sum_{i=1}^N W_{0,i} = \\frac{W_0}{W_0}=1$$\n",
        "\n",
        "Given a portfolio with weights $w_1, \\dots, w_N$, the portfolio return is the weighted average of assets' returns, i.e. \n",
        "\n",
        "$$R_P = \\sum_{i=1}^N w_i R_i$$\n",
        "\n",
        "Accordantly, the portfolio expected return corresponds to:\n",
        "\n",
        "$$\\mu_P = \\mathbb{E}[R_p] = \\mathbb{E}\\left[\\sum_{i=1}^N w_i R_i\\right] = \\sum_{i=1}^N w_i \\mathbb{E}[R_i] = \\sum_{i=1}^N w_i \\mu_i = \\mathbf{w}^\\top \\mathbf{\\mu},$$\n",
        "\n",
        "where $\\mathbf{w} = (w_1, \\dots, w_N)^\\top$ is the vector of portfolio weights. Similarly, the portfolio variance corresponds to:\n",
        "\n",
        "$$\\sigma_P^2 = \\text{cov}(R_P, R_P) = \\text{cov}\\left(\\sum_{i=1}^N w_i R_i, \\sum_{i=1}^N w_i R_i\\right) = \\sum_{i,j}^N w_i w_j \\text{cov}(R_i, R_j) = \\sum_{i,j=1}^N w_i w_j \\sigma_{i,j} = \\mathbf{w}^\\top V \\mathbf{w}.$$\n",
        "\n",
        "Finally, using the vector notation, we can state the budget constraint $\\sum_{i=1}^N w_i = 1$ as $\\mathbf{w}^\\top \\mathbf{1} = 1$, where $\\mathbf{1} = (1, \\dots, 1)^\\top$ is the $N$-dimensional vector of ones.\n"
      ]
    },
    {
      "cell_type": "markdown",
      "metadata": {
        "id": "TNwJip3-fSmE"
      },
      "source": [
        "#### Preferences\n",
        "The investor is supposed to possess preferences according to the so-called Modern Portfolio Theory of Markowitz (1952), i.e. mean-variance preferences represented by a function of two variables $V(\\mu_P, \\sigma_P)$, strictly increasing in the portfolio expected return $\\mu_P$, strictly decreasing in the portfolio standard deviation $\\sigma_P$, and quasi-concave (quasi-concavity ensures the existence of a global maximum maximizing $V$). Maximizing $V$ is equivalent to minimizing the portfolio variance under a constraint on the portfolio expected return, i.e., we consider the following problem:\n",
        "\n",
        "$$\\underset{\\mathbf{w} \\in \\mathbb{R}^N}{\\min}\\sigma_P^2 = \\mathbf{w}^\\top V \\mathbf{w}, \\quad \\text{such that} \\ \\mu_P = \\mathbf{w}^\\top \\mathbf{\\mu} \\geq r, \\quad \\mathbf{w}^\\top \\mathbf{1}=1$$\n",
        "\n",
        "We emphasize that the parameter $r$ is the only investor's specific parameter in the model and fully describes the investor preferences in terms of her expected level of return (or target return). For a detailed discussion on this alternative formulation of the mean-variance portfolio selection problem, see De Giorgi (2002). For the sake of notional simplicity (as it will become apparent later), we multiply the objective function $\\mathbf{w}^\\top V \\mathbf{w}$ with $\\frac{1}{2}$ and consider the following equivalent problem:\n",
        "\n"
      ]
    },
    {
      "cell_type": "markdown",
      "metadata": {
        "id": "DP7c8ui0i6pv"
      },
      "source": [
        "<a name=\"problem-1\"></a>\n",
        "$$\\underset{\\mathbf{w} \\in \\mathbb{R}^N}{\\min} \\frac{1}{2}\\mathbf{w}^\\top V \\mathbf{w}, \\quad \\text{such that} \\ \\mathbf{w}^\\top \\mathbf{\\mu} \\geq r, \\quad \\mathbf{w}^\\top \\mathbf{1}=1. \\tag{1}$$"
      ]
    },
    {
      "cell_type": "markdown",
      "metadata": {
        "id": "LvUftHh-cbrk"
      },
      "source": [
        "## 2 Optimal portfolios\n",
        "We solve Problem [(1)](#problem-1) using the Kuhn-Tucker Theorem (see lecture notes, Chapter 1). First of all, we rewrite Problem [(1)](#problem-1) as a maximization problem in the form stated in Chapter 1 (slide 62) of the lecture notes. We have:\n",
        "\n",
        "\n",
        "\n"
      ]
    },
    {
      "cell_type": "markdown",
      "metadata": {
        "id": "tJQcjQeCkmI_"
      },
      "source": [
        "<a name=\"problem-2\"></a>\n",
        "$$\\underset{\\mathbf{w} \\in \\mathbb{R}^N}{\\max} f(\\mathbf{w}) = -\\frac{1}{2} \\mathbf{w}^\\top V \\mathbf{w}, \\quad \\text{such that} \\ g_1(\\mathbf{w}) = \\mathbf{w}^\\top \\mathbf{w} - r \\geq 0, \\quad g_2(\\mathbf{w}) = \\mathbf{w}^\\top \\mathbf{1} - 1 = 0. \\tag{2}$$"
      ]
    },
    {
      "cell_type": "markdown",
      "metadata": {
        "id": "_sIAVDQxkmLZ"
      },
      "source": [
        "The objective function $f$ is a positive quadratic-form (as it leads to $\\sigma_P^2)$, and thus $V$ is positive semidefinite. In what follows, we impose some additional assumptions so that $V$ can be assumed to be positive definite and thus also invertible. (The matrix $V$ is symmetric, because $V_{i,j}=\\text{cov}(R_i, R_j) = \\text{cov}(R_j, R_i) = V_{j,i}$. Any symmetric and positive definite matrix is also invertible.) Therefore, $f$ is strictly convex and any local maximum of Problem [(2)](#problem-2) is also a global maximum. Moreover, functions $g_1$ and $g_2$ are both linear, and thus the Kuhn-Tucker Theorem can be applied.\n",
        "\n",
        "We define the Lagrange function of Problem [(2)](#problem-2):\n",
        "\n",
        "$$L(\\mathbf{w}) = f(\\mathbf{w}) + \\lambda_1 g_1(\\mathbf{w}) = \\lambda_2 g_2(\\mathbf{w}) = -\\frac{1}{2}\\mathbf{w}^\\top V \\mathbf{w} +\\lambda_1 (\\mathbf{w}^\\top \\mathbf{\\mu} - r) + \\lambda_2 ( \\mathbf{w}^\\top \\mathbf{1} -1).$$\n",
        "\n",
        "According to the Kuhn-Tucker Theorem, the necessary and sufficient conditions for an optimal solution to Problem [(2)](#problem-2) are:"
      ]
    },
    {
      "cell_type": "markdown",
      "metadata": {
        "id": "mkOXzkY9m6gp"
      },
      "source": [
        "<a name=\"condition-1\"></a>\n",
        "$(1) \\ \\ \\frac{\\partial L}{\\partial w_i} = 0 \\ \\text{for} \\ i = 1, \\dots; N, \\ \\text{i.e.}, -V\\mathbf{w} + \\lambda_1 \\mathbf{\\mu} + \\lambda_2 \\mathbf{1} = \\mathbf{0}, \\ \\text{where} \\mathbf{0} = (0, \\dots, 0)^\\top$ is the $N$-dimensional zero vector."
      ]
    },
    {
      "cell_type": "markdown",
      "metadata": {
        "id": "YQMPi6GHmi9W"
      },
      "source": [
        "<a name=\"condition-2\"></a>\n",
        "$(2) \\ \\ g_1(\\mathbf{w}) = \\mathbf{w}^\\top \\mathbf{\\mu} -r \\geq 0;$"
      ]
    },
    {
      "cell_type": "markdown",
      "metadata": {
        "id": "O9uHWKHzm6nI"
      },
      "source": [
        "<a name=\"condition-3\"></a>\n",
        "$(3) \\ \\ \\lambda_1 g_1(\\mathbf{w}) = \\lambda_1(\\mathbf{w}^\\top \\mathbf{\\mu} -r) = 0;$"
      ]
    },
    {
      "cell_type": "markdown",
      "metadata": {
        "id": "P67qW1kWm6vC"
      },
      "source": [
        "<a name=\"condition-4\"></a>\n",
        "$(4) \\ \\ g_2(\\mathbf{w}) = \\mathbf{w}^\\top \\mathbf{1} -1 = 0;$"
      ]
    },
    {
      "cell_type": "markdown",
      "metadata": {
        "id": "90zt6aamm63F"
      },
      "source": [
        "<a name=\"condition-5\"></a>\n",
        "$(5) \\ \\ \\lambda_1 \\geq 0, \\lambda_2 \\in \\mathbb{R}.$"
      ]
    },
    {
      "cell_type": "markdown",
      "metadata": {
        "id": "u332BdaSrbrF"
      },
      "source": [
        "We now solve these conditions.\n",
        "\n",
        "**Case 1:** $\\lambda_1 = 0.$ Condition [(1)](#condition-1) implies that $V\\mathbf{w} = \\lambda_2 \\mathbf{1}$, i.e.,\n",
        "\n",
        "$$\\mathbf{w} = \\lambda_2 V^{-1} \\mathbf{1}.$$\n",
        "\n",
        "Plugging this into [(4)](#condition-4) we obtain:\n",
        "\n",
        "$$\\lambda_2 \\mathbf{1}^\\top V^{-1} \\mathbf{1} = 1,$$\n",
        "\n",
        "i.e., $\\lambda_2 = \\frac{1}{\\mathbf{1}^\\top V^{-1} \\mathbf{1}} > 0$. Note that $\\mathbf{1}^\\top V^{-1} \\mathbf{1} > 0$ because $V$ is positive definite. It follows that:\n",
        "\n",
        "$$\\mathbf{w} = \\frac{V^{-1} \\mathbf{1}}{\\mathbf{1}^\\top V^{-1} \\mathbf{1}}.$$\n",
        "\n",
        "We still need to check condition [(2)](#condition-2). I.e., the following must hold:\n",
        "\n",
        "$$\\frac{\\mathbf{1}^\\top V^{-1} \\mathbf{\\mu}}{\\mathbf{1}^\\top V^{-1} \\mathbf{1}} - r \\geq 0 \\iff r \\leq \\frac{\\mathbf{1}^\\top V^{-1} \\mathbf{\\mu}}{\\mathbf{1}^\\top V^{-1} \\mathbf{1}}$$\n",
        "\n",
        "otherwise Case 1 is not possible. By contrast, if Case 1 applies then the optimal portfolio corresponds to:\n",
        "\n",
        "$$\\mathbf{w}^\\star_{mv} =\\frac{\\mathbf{1}^\\top V^{-1}}{\\mathbf{1}^\\top V^{-1} \\mathbf{1}}$$\n",
        "\n",
        "Portfolio $\\mathbf{w}^\\star_{mv}$ under Case 1 is the so-called minimum-variance portfolio, i.e., the portfolio with the lowest variance. This can be seen from the fact that $\\mathbf{w}^\\star_{mv}$ minimises the portfolio variance in the case where the constraint $\\mathbf{w}^\\top \\mathbf{\\mu} - r \\geq 0$ is *not* binding. Additionally, the condition $r \\leq \\frac{\\mathbf{1}^\\top V^{-1} \\mathbf{\\mu}}{\\mathbf{1}^\\top V^{-1} \\mathbf{1}} = \\mu_{mv}$ for Case 1 to hold says that the minimum-variance portfolio is optimal for any investor with an expectation $r$ below the expected return $\\mu_{mv}$ of the minimum-variance portfolio."
      ]
    },
    {
      "cell_type": "markdown",
      "metadata": {
        "id": "UON_axLOuOuP"
      },
      "source": [
        "**Case 2:** $\\lambda_1 > 0.$ Condition [(3)](#condition-3) implies that [(2)](#condition-2) must hold with equality, i.e. $\\mathbf{w}^\\top \\mathbf{\\mu} -r = 0$. Condition [(1)](#condition-1) implies that $V \\mathbf{w} = \\lambda_1 \\mathbf{\\mu} + \\lambda_2 \\mathbf{1}$, i.e.,\n",
        "\n",
        "$$\\mathbf{w} = \\lambda_1 V^{-1} \\mathbf{\\mu} + \\lambda_2 V^{-1} \\mathbf{1}.$$\n",
        "\n",
        "Plugging this result into [(2)](#condition-2) (holding with equality) and [(4)](#condition-4) we obtain:\n",
        "\n",
        "$$\\begin{align}\n",
        "\\lambda_1 \\mathbf{\\mu}^\\top V^{-1} \\mathbf{\\mu} + \\lambda_2 \\mathbf{1}^\\top V^{-1} \\mathbf{\\mu} &= r \\\\\n",
        "\\lambda_1 \\mathbf{\\mu}^\\top V^{-1} \\mathbf{1} + \\lambda_2 \\mathbf{1}^\\top V^{-1} \\mathbf{1} &= 1\n",
        "\\end{align}$$\n",
        "\n",
        "This is a linear system of equations for $\\lambda_1$ and $\\lambda_2$. For the sake of notational simplicity, we set  \n",
        "+ $a = \\mathbf{\\mu}^\\top V^{-1} \\mathbf{\\mu}$,\n",
        "+ $b = \\mathbf{1}^\\top V^{-1} \\mathbf{\\mu}$,\n",
        "+ $c = \\mathbf{1}^\\top V^{-1} \\mathbf{1}$\n",
        "\n",
        "and rewrite the system as follows:\n",
        "\n",
        "$$\\begin{align}\n",
        "a \\lambda_1 + b \\lambda_2 &= r \\\\\n",
        "b \\lambda_1 + c \\lambda_2 &= 1\n",
        "\\end{align}$$\n",
        "\n",
        "Later we will show that $b$ and $c$ can be interpreted referring to the minimum-variance portfolio of Case 1. Multiplying the first equation by $c$ and the second equation by $-b$, and adding the resulting equations together, it follows that:\n",
        "\n",
        "$$a c \\lambda_1 + b c \\lambda_2 - b^2 \\lambda_1 - b c \\lambda_2 = rc - b \\iff \\lambda_1 (a c - b^2) = rc - b \\iff \\lambda_1 = \\frac{rc-b}{ac-b^2} = \\frac{rc-b}{\\Delta},$$\n",
        "\n",
        "where $\\Delta = ac - b^2 > 0$ because of the Cauchy-Schwarz inequality. Similarly, multiplying the first equation by $b$ and the second equation by $-a$, and adding the resulting equations together, it follows that:\n",
        "\n",
        "$$ab \\lambda_1 + b^2 \\lambda_2 - ab \\lambda_1 - ac \\lambda_2 = rb - a \\iff \\lambda_2 (b^2 - ac) = rb - a \\iff \\lambda_2 = \\frac{a-rb}{ac -b^2}= \\frac{a-rb}{\\Delta}.$$\n",
        "\n",
        "We still need to verify if $\\lambda_1 > 0$. This is the case when the following condition for $r$ holds:\n",
        "\n",
        "$$\\lambda_1 = \\frac{rc-b}{\\Delta} > 0 \\iff r > \\frac{b}{c} = \\mu_{mv}.$$\n",
        "\n",
        "We now set $\\mathbf{w}_1 = \\frac{1}{b} V^{-1} \\mathbf{\\mu}$ and $\\mathbf{w}_2 = \\frac{1}{c} V^{-1} \\mathbf{1} = \\mathbf{w}^\\star_{mv}$. Both are feasible portfolios, because $\\mathbf{w}_i^\\top \\mathbf{1} = 1$ for $i = 1, 2,$ i.e. the budget restriction applies in both cases. Moreover, $\\mathbf{w}_1$ and $\\mathbf{w}^\\star_{mv}$ do not depend on the parameter $r$, which is the only investor's specific parameter in the model. We have:\n",
        "\n",
        "$$\\mathbf{w}^\\star = \\frac{rc-b}{\\Delta} b \\mathbf{w}_1 + \\frac{a-rb}{\\Delta} c \\mathbf{w}^\\star_{mv} = \\frac{rbc -b^2}{\\Delta} \\mathbf{w}_1 + \\frac{ac-rbc}{\\Delta} \\mathbf{w}^\\star_{mv}.$$\n",
        "\n",
        "Interestingly,\n",
        "\n",
        "$$\\frac{rbc-b^2}{\\Delta} + \\frac{ac - rbc}{\\Delta} = \\frac{\\Delta}{\\Delta} = 1.$$\n",
        "\n",
        "Therefore, if we set:\n",
        "\n",
        "$$t(r) = \\frac{ac-rbc}{\\Delta},$$\n",
        "\n",
        "then\n",
        "\n",
        "$$\\mathbf{w}^\\star = t(r) \\mathbf{w}^\\star_{mv} + (1 - t(r)) \\mathbf{w}_1,$$\n",
        "\n",
        "i.e., the optimal portfolio under Case 2 is a weighted combination of portfolios $\\mathbf{w}^\\star_{mv}$ and $\\mathbf{w}_1$, and the preferences of the investory only matter for the magnitude of the weights $t(r)$ and $1-t(r)$. This result is called two-fund separation or Tobin separation (Tobin 1958)."
      ]
    },
    {
      "cell_type": "markdown",
      "metadata": {
        "id": "NCJ697QUzH3u"
      },
      "source": [
        "### Efficient frontier\n",
        "The final step is to analyze the relation between the standard devation $\\sigma(r)$ and the expected return $\\mu(r)$ of the optimal portfolio of the investor with target return $r$. The location of optimal pairs $(\\sigma(r), \\mu(r))$ for $r > 0$ is called the efficient frontier.\n",
        "\n",
        "We restrict our treatment to the case $r \\geq \\frac{b}{c}$, because for all $r < \\frac{b}{c}$ the optimal portfolio is the minimum-variance portfolio, as seen in Case 1 above. In case $r \\geq \\frac{b}{c}$, the constraint $\\mathbf{w}^\\top\\mathbf{\\mu} - r \\geq 0$ is binding and thus the expected return of the optimal portfolio corresponds to the target return $r$, i.e., $\\mu(r) = r$. Therefore, from the definition of $t(r)$ we obtain:\n",
        "\n",
        "$$t(r) = \\frac{c}{\\Delta} (a - b\\mu(r)).$$\n",
        "\n",
        "The variance of the optimal portfolio is:\n",
        "\n",
        "$$ \\sigma(r)^2 = (\\mathbf{w}^\\star)^\\top V \\mathbf{w}^\\star = \\dots = \\left(\\frac{1}{c}-\\frac{a}{b^2}\\right)(t(r) - 1)^2- \\frac{1}{c} = \\frac{1}{c}\\left[\\frac{\\Delta}{b^2} (t(r) - 1)^2 + 1\\right].$$\n",
        "\n",
        "We skipped some steps in the derivation above, but simply replace $\\mathbf{w}^\\star$ with the corresponding formula under Case 2, and treplace the expressions with $a$, $b$, and $c$ where possible.\n",
        "\n",
        "Replacing $t(r)$ with the expression above, we finally obtain:\n",
        "\n",
        "$$\\begin{align}\n",
        "\\sigma(r)^2 &= \\frac{1}{c}\\left[\\frac{\\Delta}{b^2}\\left(\\frac{c}{\\Delta}(a-b\\mu(r))-1\\right)^2 +1\\right] \\\\\n",
        "&= \\frac{1}{c}\\left[\\frac{\\Delta}{b^2}\\left(\\frac{ac-bc\\mu(r) -\\Delta}{\\Delta}\\right)^2 +1\\right] \\\\\n",
        "&= \\frac{1}{c}\\left[\\frac{\\Delta}{b^2}\\frac{(b^2 - bc\\mu(r))^2}{\\Delta^2} +1\\right] \\\\\n",
        "&= \\frac{1}{c}\\left[\\frac{bc}{b^2 \\Delta}\\left(\\frac{b}{c} -\\mu(r)\\right)^2 +1\\right] \\\\\n",
        "&= \\frac{1}{c}\\left[\\frac{c}{b \\Delta}\\left(\\mu(r)-\\mu_{mv}\\right)^2 +1\\right] \\\\\n",
        "\\end{align}$$\n",
        "\n",
        "We now observe that the variance of the minimum-variance portfolio corresponds to $\\frac{1}{c}$, because:\n",
        "\n",
        "$$(\\mathbf{w}^\\star_{mv})^\\top V \\mathbf{w}^\\star_{mv} = \\frac{1}{c^2} \\mathbf{1}^\\top V^{-1} V V^{-1} \\mathbf{1} = \\frac{\\mathbf{1} V^{-1} \\mathbf{1}}{c^2} = \\frac{c}{c^2} = \\frac{1}{c}.$$\n",
        "\n",
        "It follows that:\n",
        "\n",
        "$$\\begin{align}\n",
        "\\sigma(r)^2 &= \\sigma^2_{mv} \\left[\\frac{c}{b\\Delta} (\\mu(r) - \\mu_{mv})^2 + 1\\right] \\\\\n",
        "\\iff &\\frac{\\sigma(r)^2}{\\sigma^2_{mv}} = \\frac{c}{b \\Delta}(\\mu(r) - \\mu_{mv})^2 + 1 \\\\\n",
        "\\iff &\\frac{\\sigma(r)^2}{\\sigma^2_{mv}} - \\frac{c}{b \\Delta}(\\mu(r) - \\mu_{mv})^2 = 1.\n",
        "\\end{align}$$\n",
        "\n",
        "This latter equation describes a hyperbola in the $(\\sigma, \\mu)$ space; see De Giorgi (2017). Therefore, the efficient frontier can be graphically visualized as a hyperbola in the *standard-deviation-expected-return* two-dimensional plane."
      ]
    },
    {
      "cell_type": "markdown",
      "metadata": {
        "id": "fUsadwkEzH6F"
      },
      "source": [
        "## 3 Application"
      ]
    },
    {
      "cell_type": "markdown",
      "metadata": {
        "id": "iCmCIOQT5m3e"
      },
      "source": [
        "We begin by obtaining price data for US stocks using the `quantmod` package in R to grab data directly from Yahoo!Finance. This data will then serve to apply the concepts presented in the theory above."
      ]
    },
    {
      "cell_type": "code",
      "metadata": {
        "colab": {
          "base_uri": "https://localhost:8080/"
        },
        "id": "Kxc4QqX36nam",
        "outputId": "b0383f0c-a6fd-46c6-a05a-74056366c712"
      },
      "source": [
        "# We must first install the package quantmod before we can use it as it is not\n",
        "# part of the standard Colab packages\n",
        "install.packages(\"quantmod\")"
      ],
      "execution_count": null,
      "outputs": [
        {
          "output_type": "stream",
          "name": "stderr",
          "text": [
            "Installing package into ‘/usr/local/lib/R/site-library’\n",
            "(as ‘lib’ is unspecified)\n",
            "\n",
            "also installing the dependencies ‘xts’, ‘zoo’, ‘TTR’\n",
            "\n",
            "\n"
          ]
        }
      ]
    },
    {
      "cell_type": "code",
      "metadata": {
        "id": "dNJRj59NjJKo",
        "colab": {
          "base_uri": "https://localhost:8080/"
        },
        "outputId": "fa26e61c-8d50-42d8-ec7f-01efbd97d775"
      },
      "source": [
        "# Library to access Yahoo!Finance data\n",
        "library(quantmod)\n",
        "# Time series library\n",
        "library(xts)\n",
        "# Plotting library\n",
        "library(ggplot2);"
      ],
      "execution_count": null,
      "outputs": [
        {
          "output_type": "stream",
          "name": "stderr",
          "text": [
            "Loading required package: xts\n",
            "\n",
            "Loading required package: zoo\n",
            "\n",
            "\n",
            "Attaching package: ‘zoo’\n",
            "\n",
            "\n",
            "The following objects are masked from ‘package:base’:\n",
            "\n",
            "    as.Date, as.Date.numeric\n",
            "\n",
            "\n",
            "Loading required package: TTR\n",
            "\n",
            "Registered S3 method overwritten by 'quantmod':\n",
            "  method            from\n",
            "  as.zoo.data.frame zoo \n",
            "\n"
          ]
        }
      ]
    },
    {
      "cell_type": "code",
      "metadata": {
        "id": "MamZ3_fV7JhH"
      },
      "source": [
        "# Set plot width and height\n",
        "options(repr.plot.width=16, repr.plot.height=12)"
      ],
      "execution_count": null,
      "outputs": []
    },
    {
      "cell_type": "markdown",
      "metadata": {
        "id": "WE3VBPPW5dQg"
      },
      "source": [
        "Create a vector of strings containing the tickers of the stocks to consider in our portfolio."
      ]
    },
    {
      "cell_type": "code",
      "metadata": {
        "id": "_6qb7xTh4vtD"
      },
      "source": [
        "# Selection of 10 stocks from S&P500 \n",
        "# (most of them are within the top positions in the S&P500)\n",
        "tickers = c(\n",
        "  \"AAPL\",\n",
        "  \"AMZN\",\n",
        "  \"BAC\",\n",
        "  \"FB\",\n",
        "  \"GOOGL\",\n",
        "  \"KO\",\n",
        "  \"MSFT\",\n",
        "  \"NFLX\",\n",
        "  \"NVDA\",\n",
        "  \"TSLA\"\n",
        ")"
      ],
      "execution_count": null,
      "outputs": []
    },
    {
      "cell_type": "code",
      "metadata": {
        "colab": {
          "base_uri": "https://localhost:8080/",
          "height": 782
        },
        "id": "2zdmiVPt5aq5",
        "outputId": "707466f5-67be-41fb-d7af-5b555be0d3be"
      },
      "source": [
        "# Download weekly prices from January 2013 (Facebook went public in 2012)\n",
        "getSymbols(tickers, from = \"2013-01-01\", to = \"2020-12-31\", warnings = FALSE,\n",
        "  auto.assign = TRUE, periodicity = \"weekly\")\n",
        "# Keep only \"Adjusted Close\" prices and build a time series objects\n",
        "prices <- xts(\n",
        "  data.frame(\n",
        "    matrix(unlist(lapply(tickers, function(x) Ad(get(x)))), \n",
        "      nrow = length(Ad(get(tickers[1]))), byrow=FALSE)), \n",
        "  order.by = index(get(tickers[1]))\n",
        ")\n",
        "names(prices) <- tickers\n",
        "# Display the first 10 rows of the dataset\n",
        "head(prices, 10);"
      ],
      "execution_count": null,
      "outputs": [
        {
          "output_type": "stream",
          "name": "stderr",
          "text": [
            "‘getSymbols’ currently uses auto.assign=TRUE by default, but will\n",
            "use auto.assign=FALSE in 0.5-0. You will still be able to use\n",
            "‘loadSymbols’ to automatically load data. getOption(\"getSymbols.env\")\n",
            "and getOption(\"getSymbols.auto.assign\") will still be checked for\n",
            "alternate defaults.\n",
            "\n",
            "This message is shown once per session and may be disabled by setting \n",
            "options(\"getSymbols.warning4.0\"=FALSE). See ?getSymbols for details.\n",
            "\n",
            "\n",
            "pausing 1 second between requests for more than 5 symbols\n",
            "\n",
            "pausing 1 second between requests for more than 5 symbols\n",
            "\n",
            "pausing 1 second between requests for more than 5 symbols\n",
            "\n",
            "pausing 1 second between requests for more than 5 symbols\n",
            "\n",
            "pausing 1 second between requests for more than 5 symbols\n",
            "\n",
            "pausing 1 second between requests for more than 5 symbols\n",
            "\n"
          ]
        },
        {
          "output_type": "display_data",
          "data": {
            "text/plain": [
              " [1] \"AAPL\"  \"AMZN\"  \"BAC\"   \"FB\"    \"GOOGL\" \"KO\"    \"MSFT\"  \"NFLX\"  \"NVDA\" \n",
              "[10] \"TSLA\" "
            ],
            "text/latex": "\\begin{enumerate*}\n\\item 'AAPL'\n\\item 'AMZN'\n\\item 'BAC'\n\\item 'FB'\n\\item 'GOOGL'\n\\item 'KO'\n\\item 'MSFT'\n\\item 'NFLX'\n\\item 'NVDA'\n\\item 'TSLA'\n\\end{enumerate*}\n",
            "text/markdown": "1. 'AAPL'\n2. 'AMZN'\n3. 'BAC'\n4. 'FB'\n5. 'GOOGL'\n6. 'KO'\n7. 'MSFT'\n8. 'NFLX'\n9. 'NVDA'\n10. 'TSLA'\n\n\n",
            "text/html": [
              "<style>\n",
              ".list-inline {list-style: none; margin:0; padding: 0}\n",
              ".list-inline>li {display: inline-block}\n",
              ".list-inline>li:not(:last-child)::after {content: \"\\00b7\"; padding: 0 .5ex}\n",
              "</style>\n",
              "<ol class=list-inline><li>'AAPL'</li><li>'AMZN'</li><li>'BAC'</li><li>'FB'</li><li>'GOOGL'</li><li>'KO'</li><li>'MSFT'</li><li>'NFLX'</li><li>'NVDA'</li><li>'TSLA'</li></ol>\n"
            ]
          },
          "metadata": {}
        },
        {
          "output_type": "display_data",
          "data": {
            "text/plain": [
              "               AAPL   AMZN       BAC    FB    GOOGL       KO     MSFT     NFLX\n",
              "2013-01-01 16.20800 268.46 10.562925 29.42 367.7427 28.25277 22.25469 14.17143\n",
              "2013-01-08 15.52274 272.73 10.021241 30.95 361.9870 28.01796 22.42146 14.77857\n",
              "2013-01-15 15.46860 272.12  9.732921 29.66 352.6076 28.55575 22.72162 14.16714\n",
              "2013-01-22 13.91648 276.04 10.029974 32.47 375.7408 28.03310 23.27194 23.15857\n",
              "2013-01-29 13.68414 259.98 10.029974 28.11 379.8899 28.29063 22.88005 24.96286\n",
              "2013-02-05 14.84769 257.21 10.361978 28.26 391.6016 29.24503 23.23026 25.41286\n",
              "2013-02-12 14.31903 265.09 10.510505 28.32 396.8418 28.34366 23.35533 27.07286\n",
              "2013-02-19 13.77883 259.87  9.636813 27.27 395.7808 28.57089 22.82169 25.61714\n",
              "2013-02-26 13.07090 273.11  9.968816 27.72 411.1612 29.40409 23.66640 25.88714\n",
              "2013-03-05 13.62542 271.24 10.624896 28.14 417.8278 29.77524 23.43100 25.77857\n",
              "               NVDA  TSLA\n",
              "2013-01-01 2.951946 6.868\n",
              "2013-01-08 2.820183 6.652\n",
              "2013-01-15 2.813248 6.904\n",
              "2013-01-22 2.914959 7.606\n",
              "2013-01-29 2.810936 7.548\n",
              "2013-02-05 2.891844 7.684\n",
              "2013-02-12 2.942699 7.408\n",
              "2013-02-19 2.843299 6.876\n",
              "2013-02-26 2.926518 7.116\n",
              "2013-03-05 2.953775 7.820"
            ]
          },
          "metadata": {}
        }
      ]
    },
    {
      "cell_type": "code",
      "metadata": {
        "colab": {
          "base_uri": "https://localhost:8080/",
          "height": 34
        },
        "id": "eNP0MSRqxzyP",
        "outputId": "0a8788eb-0729-453c-8c7b-b65d939f8042"
      },
      "source": [
        "# Show the full size of the data\n",
        "dim(prices)"
      ],
      "execution_count": null,
      "outputs": [
        {
          "output_type": "display_data",
          "data": {
            "text/plain": [
              "[1] 418  10"
            ],
            "text/latex": "\\begin{enumerate*}\n\\item 418\n\\item 10\n\\end{enumerate*}\n",
            "text/markdown": "1. 418\n2. 10\n\n\n",
            "text/html": [
              "<style>\n",
              ".list-inline {list-style: none; margin:0; padding: 0}\n",
              ".list-inline>li {display: inline-block}\n",
              ".list-inline>li:not(:last-child)::after {content: \"\\00b7\"; padding: 0 .5ex}\n",
              "</style>\n",
              "<ol class=list-inline><li>418</li><li>10</li></ol>\n"
            ]
          },
          "metadata": {}
        }
      ]
    },
    {
      "cell_type": "markdown",
      "metadata": {
        "id": "DVyaoVff_Kar"
      },
      "source": [
        "#### (1) Compute returns, estimate $\\mathbf{\\mu}$ and $V$.\n",
        "\n",
        "Our dataframe has $T = 418$ rows and $N = 10$ columns, with $T$ being the number of weeks and $N$ the number of stocks. Call our price data $P$ with $P_{t,i}$ being the price of asset $i$ at time $t$.\n",
        "\n",
        "**Returns:**  \n",
        "We calculate the percentage returns matrix $R$ where each entry represents the returns of asset $i$ at timestep $t$:\n",
        "\n",
        "$$R_{t,i} = 100\\frac{P_{t,i}-P_{t-1,i}}{P_{t-1,i}}=100(\\exp\\left(\\log(P_{t,i}) - \\log(P_{t-1,i})\\right)-1).$$"
      ]
    },
    {
      "cell_type": "code",
      "metadata": {
        "id": "QMseL9eE37X1"
      },
      "source": [
        "# Create a dataframe of percentage returns\n",
        "returns <- 100 * (exp(diff(log(prices), 1)) - 1)\n",
        "# Drop first row (as there are no returns for it)\n",
        "returns <- returns[2:nrow(returns), ] "
      ],
      "execution_count": null,
      "outputs": []
    },
    {
      "cell_type": "markdown",
      "metadata": {
        "id": "cMbcdhCA37eZ"
      },
      "source": [
        "**$\\mathbf{\\mu}:$**  \n",
        "The expected returns vector $\\mathbf{\\mu}$ is then:\n",
        "\n",
        "$$\\begin{align}\n",
        "\\mathbf{\\mu} &= (\\mathbb{E}[R_1], \\dots, \\mathbb{E}[R_N])^\\top \\\\\n",
        "&= \\left(\\frac{1}{T-1}\\sum_{t=2}^T R_{t,1}, \\dots, \\frac{1}{T-1}\\sum_{t=2}^T R_{t,N}\\right)^\\top.\n",
        "\\end{align}$$\n",
        "\n",
        "In R, we can obtain this vector by simply running the `colMeans( )` function on our returns object."
      ]
    },
    {
      "cell_type": "code",
      "metadata": {
        "id": "mQH_Wol837kG"
      },
      "source": [
        "# Compute mu as the mean returns per column (i.e. per stock)\n",
        "mu <- colMeans(returns)"
      ],
      "execution_count": null,
      "outputs": []
    },
    {
      "cell_type": "markdown",
      "metadata": {
        "id": "TE-eGhlO37tA"
      },
      "source": [
        "**$V$:**  \n",
        "Lastly, the variance-covariance matrix $V$ is a matrix with entries:\n",
        "\n",
        "$$V_{i,j}= \\sigma_{i,j}=\\mathbb{E}[(R_i - \\mathbf{\\mu}_i)(R_j - \\mathbf{\\mu}_j)].\n",
        "$$\n",
        "\n",
        "Once again, R provides us with a helpful function, `cov( )` which computes the covariance for us. This function not only works for vectors but also for matrices and results in the variance-covariance matrix as needed."
      ]
    },
    {
      "cell_type": "code",
      "metadata": {
        "id": "BO6wC3HrHbNC"
      },
      "source": [
        "# Compute V as the variance-covariance matrix of asset returns\n",
        "V <- cov(returns)"
      ],
      "execution_count": null,
      "outputs": []
    },
    {
      "cell_type": "markdown",
      "metadata": {
        "id": "cCYVFRqCBIRp"
      },
      "source": [
        "#### (2) Compute the optimal portfolio as a function of $r$ using the theory in Sections [1](#section-1) and [2](#section-2)\n",
        "\n",
        "As the theory in the precending sections outlines most of the hard work, we simply implement the necessary bits and pieces to compute the variables of interest.\n",
        "\n",
        "We begin by computing the minimum variance portfolio weights, as this value will be useful later on:\n",
        "\n",
        "$$\\mathbf{w}^\\star_{mv} = \\frac{V^{-1} \\mathbf{1}}{\\mathbf{1}^\\top V^{-1}\\mathbf{1}}$$"
      ]
    },
    {
      "cell_type": "code",
      "metadata": {
        "id": "ubUkV-xB-Md9"
      },
      "source": [
        "# Store the inverse of V so we don't have to compute it multiple times later on\n",
        "Vinv <- solve(V)\n",
        "# Create a vector of ones of length N\n",
        "ones <- rep(1, length(tickers))\n",
        "# Compute the minimum variance portfolio weights\n",
        "w_mv <- (Vinv %*% ones) / as.numeric(t(ones) %*% Vinv %*% ones)"
      ],
      "execution_count": null,
      "outputs": []
    },
    {
      "cell_type": "markdown",
      "metadata": {
        "id": "r6XC77Jr_wHF"
      },
      "source": [
        "In order to simplify the code for the optimal portfolio, we follow the notation used above and define the variables:  \n",
        "+ $a = \\mathbf{\\mu}^\\top V^{-1} \\mathbf{\\mu}$\n",
        "+ $b = \\mathbf{1}^\\top V^{-1} \\mathbf{\\mu}$\n",
        "+ $c = \\mathbf{1}^\\top V^{-1} \\mathbf{1}$"
      ]
    },
    {
      "cell_type": "code",
      "metadata": {
        "id": "LW7HkhfUALZ8"
      },
      "source": [
        "a <- as.numeric(t(mu) %*% Vinv %*% mu)\n",
        "b <- as.numeric(t(ones) %*% Vinv %*% mu)\n",
        "c <- as.numeric(t(ones) %*% Vinv %*% ones)"
      ],
      "execution_count": null,
      "outputs": []
    },
    {
      "cell_type": "markdown",
      "metadata": {
        "id": "rwmoS072Ah9v"
      },
      "source": [
        "We can now compute $\\mathbf{w}_1 = \\mathbf{w}_1 = \\frac{1}{b} V^{-1} \\mathbf{\\mu}$ (note that we already have $\\mathbf{w}_2$ since $\\mathbf{w}_2 = \\mathbf{w}^\\star_{mv})$."
      ]
    },
    {
      "cell_type": "code",
      "metadata": {
        "id": "n6YvT9N3BlZ9"
      },
      "source": [
        "w_1 <- (Vinv %*% mu) / b"
      ],
      "execution_count": null,
      "outputs": []
    },
    {
      "cell_type": "markdown",
      "metadata": {
        "id": "DBjd4u5SB9YA"
      },
      "source": [
        "Finally, we compute $\\Delta = ac - b^2$ and build the function $t(r) = \\frac{ac-rbc}{\\Delta}$, which leaves us with all the components needed to compute the mean variance portfolio weight $\\mathbf{w}^\\star$:\n",
        "\n",
        "$$\\mathbf{w}^\\star = t(r) \\mathbf{w}^\\star_{mv} + (1 - t(r)) \\mathbf{w}_1$$"
      ]
    },
    {
      "cell_type": "code",
      "metadata": {
        "id": "xxtbSaxdBz9l"
      },
      "source": [
        "delta <- a*c - b^2\n",
        "# Create a function t(r)\n",
        "### BE CAREFUL ! We cant simply use the variable 't', this is already a base R\n",
        "### function used to tranpose matrices and vectors, instead we use 'tob(r)'\n",
        "tob <- function(r) (a*c - r*b*c) / delta\n",
        "w_star <- function(r) tob(r) * w_mv + (1 - tob(r)) * w_1"
      ],
      "execution_count": null,
      "outputs": []
    },
    {
      "cell_type": "markdown",
      "metadata": {
        "id": "zuGMIcZNdk2a"
      },
      "source": [
        "Lastly, we need to account for when *Case 1* applies in the theory above, in such a case, the optimal portfolio is the minimum variance portfolio and otherwise it is the portfolio on the efficient frontier."
      ]
    },
    {
      "cell_type": "code",
      "metadata": {
        "id": "vgutdDYidyGf"
      },
      "source": [
        "optimal_portfolio <- function(r) {\n",
        "  # When the case r < bc holds, we return the minimum variance portfolio\n",
        "  if(r < b/c) {\n",
        "    return(w_mv)\n",
        "  # Otherwise, we return the portfolio on the efficient frontier\n",
        "  } else {\n",
        "    return(w_star(r))\n",
        "  }\n",
        "}"
      ],
      "execution_count": null,
      "outputs": []
    },
    {
      "cell_type": "code",
      "metadata": {
        "colab": {
          "base_uri": "https://localhost:8080/",
          "height": 361
        },
        "id": "oPWNk3iSeF9q",
        "outputId": "eed6fff6-bbd5-4eaf-9374-ac3b14e6afd9"
      },
      "source": [
        "# Example to obtain the optimal portfolio weights for r = 3.4\n",
        "r <- 3.4\n",
        "optimal_portfolio(r)"
      ],
      "execution_count": null,
      "outputs": [
        {
          "output_type": "display_data",
          "data": {
            "text/plain": [
              "      [,1]      \n",
              "AAPL   0.6413304\n",
              "AMZN   0.3095727\n",
              "BAC   -0.5192744\n",
              "FB     0.1998097\n",
              "GOOGL -1.7244308\n",
              "KO    -1.7680742\n",
              "MSFT   1.1850651\n",
              "NFLX   0.6669227\n",
              "NVDA   1.1161339\n",
              "TSLA   0.8929449"
            ],
            "text/latex": "A matrix: 10 × 1 of type dbl\n\\begin{tabular}{r|l}\n\tAAPL &  0.6413304\\\\\n\tAMZN &  0.3095727\\\\\n\tBAC & -0.5192744\\\\\n\tFB &  0.1998097\\\\\n\tGOOGL & -1.7244308\\\\\n\tKO & -1.7680742\\\\\n\tMSFT &  1.1850651\\\\\n\tNFLX &  0.6669227\\\\\n\tNVDA &  1.1161339\\\\\n\tTSLA &  0.8929449\\\\\n\\end{tabular}\n",
            "text/markdown": "\nA matrix: 10 × 1 of type dbl\n\n| AAPL |  0.6413304 |\n| AMZN |  0.3095727 |\n| BAC | -0.5192744 |\n| FB |  0.1998097 |\n| GOOGL | -1.7244308 |\n| KO | -1.7680742 |\n| MSFT |  1.1850651 |\n| NFLX |  0.6669227 |\n| NVDA |  1.1161339 |\n| TSLA |  0.8929449 |\n\n",
            "text/html": [
              "<table class=\"dataframe\">\n",
              "<caption>A matrix: 10 × 1 of type dbl</caption>\n",
              "<tbody>\n",
              "\t<tr><th scope=row>AAPL</th><td> 0.6413304</td></tr>\n",
              "\t<tr><th scope=row>AMZN</th><td> 0.3095727</td></tr>\n",
              "\t<tr><th scope=row>BAC</th><td>-0.5192744</td></tr>\n",
              "\t<tr><th scope=row>FB</th><td> 0.1998097</td></tr>\n",
              "\t<tr><th scope=row>GOOGL</th><td>-1.7244308</td></tr>\n",
              "\t<tr><th scope=row>KO</th><td>-1.7680742</td></tr>\n",
              "\t<tr><th scope=row>MSFT</th><td> 1.1850651</td></tr>\n",
              "\t<tr><th scope=row>NFLX</th><td> 0.6669227</td></tr>\n",
              "\t<tr><th scope=row>NVDA</th><td> 1.1161339</td></tr>\n",
              "\t<tr><th scope=row>TSLA</th><td> 0.8929449</td></tr>\n",
              "</tbody>\n",
              "</table>\n"
            ]
          },
          "metadata": {}
        }
      ]
    },
    {
      "cell_type": "markdown",
      "metadata": {
        "id": "_lXDo1YFMyy3"
      },
      "source": [
        "#### (3) Display the mean-variance efficient frontier; show where the minimum variance portfolio is located, and where portfolio $\\mathbf{w}_1$ from the theory is located."
      ]
    },
    {
      "cell_type": "markdown",
      "metadata": {
        "id": "jzxPv9UmDmk0"
      },
      "source": [
        "Begin by adding a function to compute portfolio standard deviation given a set of weights $\\mathbf{w}$:\n",
        "\n",
        "$$\\sigma_P(\\mathbf{w}) = \\sqrt{\\mathbf{w}^\\top V \\mathbf{w}}$$"
      ]
    },
    {
      "cell_type": "code",
      "metadata": {
        "id": "jaKXrAXQDGBQ"
      },
      "source": [
        "sigma <- function(w) sqrt(as.numeric(t(w) %*% V %*% w))"
      ],
      "execution_count": null,
      "outputs": []
    },
    {
      "cell_type": "markdown",
      "metadata": {
        "id": "4hOZc0TZEeN8"
      },
      "source": [
        "Given a sequence of returns, we can now create a dataframe which contains a column with the target return and a column with the variance of the efficient portfolio corresponding to this level of return."
      ]
    },
    {
      "cell_type": "code",
      "metadata": {
        "id": "Fmqsj9SlE8j-"
      },
      "source": [
        "# Take 1000 linearly spaced values between 0 and 5, these are the target returns\n",
        "n_points <- 1000\n",
        "r_levels <- seq(min(mu), max(mu), length.out = n_points)\n",
        "# Initialize a list of NA for the portfolio standard deviations\n",
        "ps <- rep(NA, n_points)\n",
        "# Iterate over the different target return values\n",
        "for(i in 1:n_points) {\n",
        "  # Compute the optimal portfolio weights for this level of return\n",
        "  w <- w_star(r_levels[i])\n",
        "  # Compute and store the standard deviation of this portfolio\n",
        "  ps[i] <- sigma(w)\n",
        "}\n",
        "# Create a dataframe with target return and matching standard deviation\n",
        "efficient_frontier <- data.frame(\n",
        "  returns = r_levels,\n",
        "  stdev = ps\n",
        ")"
      ],
      "execution_count": null,
      "outputs": []
    },
    {
      "cell_type": "markdown",
      "metadata": {
        "id": "QtC-ERYdHmtG"
      },
      "source": [
        "We can now turn to plotting the efficient frontier. To do so, we make use of the `ggplot2` package, a powerful plotting package in R. This is also the reason we stored the data in a dataframe, making it easy to combine with this package."
      ]
    },
    {
      "cell_type": "code",
      "metadata": {
        "colab": {
          "base_uri": "https://localhost:8080/",
          "height": 737
        },
        "id": "enu0pnQhHu23",
        "outputId": "61705ea8-db93-4ee5-f8c7-c45e5aaaf7ca"
      },
      "source": [
        "# Compute location of w_mv and w_1 portfolios\n",
        "r_mv <- t(w_mv) %*% mu\n",
        "sigma_mv <- sigma(w_mv)\n",
        "r_1 <- t(w_1) %*% mu\n",
        "sigma_1 <- sigma(w_1)\n",
        "# Set up the initial plot call, define the data for both x and y\n",
        "ggplot(\n",
        "    data = efficient_frontier, \n",
        "    mapping = aes(x = returns, y = stdev)) + \n",
        "# \n",
        "  geom_line(color = \"#2471a3\") +\n",
        "  geom_text(x = Inf, y = Inf, color = \"#2471a3\", label = \"Efficient frontier\", \n",
        "    size = 6, hjust=2, vjust=5) +\n",
        "# Add a single point for the minimum standard deviation portfolio\n",
        "  geom_point(aes(x = r_mv, y = sigma_mv), color = \"#a93226\", size = 3) +\n",
        "  geom_text(aes(x = r_mv, y = sigma_mv), label = \"Minimum variance portfolio\", \n",
        "    hjust = -0.1, size = 6, color = \"#a93226\") + \n",
        "# Add a single point for w_1\n",
        "  geom_point(aes(x = r_1, y = sigma(w_1)), color = \"#f39c12\", size = 3) +\n",
        "  geom_text(aes(x = r_1, y = sigma_1), label = \"Portfolio with weights w_1\", \n",
        "    hjust = -0.1, size = 6, color = \"#f39c12\") + \n",
        "# Add title and axis titles\n",
        "  labs(title = \"Mean-variance efficient frontier\", x = \"Portfolio returns\",\n",
        "    y = \"Portfolio standard deviation\") +\n",
        "# Prettify the plot\n",
        "  theme_bw() +\n",
        "# Flip the axes\n",
        "  coord_flip()"
      ],
      "execution_count": null,
      "outputs": [
        {
          "output_type": "display_data",
          "data": {
            "image/png": "[encoded data removed]",
            "text/plain": [
              "plot without title"
            ]
          },
          "metadata": {
            "image/png": {
              "width": 960,
              "height": 720
            }
          }
        }
      ]
    },
    {
      "cell_type": "markdown",
      "metadata": {
        "id": "vGxTT0d12WkI"
      },
      "source": [
        "#### (4) Numerically compute the optimal portfolios if there is a no short-sale contraint on weights ($w_i \\geq 0$ for all $i$).\n",
        "This case is hard to treat analytically, so we do that numerically. For more insights, see De Giorgi, Post, and Yalcin (2019).  \n",
        "+ Does two-fund separation hold in this case? \n",
        "+ How does the efficient frontier look like in this case? \n",
        "+ Compare this with the case without short-sale constraints, as covered by the theory.\n",
        "\n",
        "We set up the constrained optimization problem using the R library `quadprog`, which we need to install first."
      ]
    },
    {
      "cell_type": "code",
      "metadata": {
        "colab": {
          "base_uri": "https://localhost:8080/"
        },
        "id": "MGtaTJwj_sHI",
        "outputId": "2a07b882-3e76-4c98-b387-126a9eb8787f"
      },
      "source": [
        "# Install and load the optimization library\n",
        "install.packages(\"quadprog\")\n",
        "library(quadprog)"
      ],
      "execution_count": null,
      "outputs": [
        {
          "output_type": "stream",
          "name": "stderr",
          "text": [
            "Installing package into ‘/usr/local/lib/R/site-library’\n",
            "(as ‘lib’ is unspecified)\n",
            "\n"
          ]
        }
      ]
    },
    {
      "cell_type": "markdown",
      "metadata": {
        "id": "fr7HkLexCfc4"
      },
      "source": [
        "We will use the routine `solve.QP`, which solves a quadratic programming problem of the form\n",
        "\n",
        "$$\\begin{align}\n",
        "\\text{Minimize:}& \\ -\\mathbf{d}^\\top \\mathbf{b} + \\frac{1}{2} \\mathbf{b}^\\top D \\mathbf{b} \\\\\n",
        "\\text{Subject to:}& \\quad A^\\top \\mathbf{b} \\geq \\mathbf{b_0}.\n",
        "\\end{align}$$"
      ]
    },
    {
      "cell_type": "markdown",
      "metadata": {
        "id": "pEQ2T5JP0Ifi"
      },
      "source": [
        "We can rewrite our portfolio optimization in this form. First, the target function is:\n",
        "\n",
        "$$\n",
        "-\\mathbf{d}^\\top \\mathbf{b} + \\frac{1}{2} \\mathbf{b}^\\top D \\mathbf{b} = \\mathbf{w}^\\top V \\mathbf{w}$$\n",
        "\n",
        "which implies that we have:\n",
        "\n",
        "$$\\begin{align}\n",
        "\\mathbf{b} &= \\mathbf{w} \\\\\n",
        "D &= 2V \\\\\n",
        "\\mathbf{d} &= \\mathbf{0}\n",
        "\\end{align}$$"
      ]
    },
    {
      "cell_type": "markdown",
      "metadata": {
        "id": "hwG2kfe6ElTo"
      },
      "source": [
        "We further need to define the constraint matrix $A$. This way of representing constraints, $A^\\top \\mathbf{b} \\geq \\mathbf{b_0}$, can be understood as a simple system of linear equations. Hence, we think of our three constraints as system of linear equations and represent them in the required form."
      ]
    },
    {
      "cell_type": "markdown",
      "metadata": {
        "id": "ARncCLbIJW3f"
      },
      "source": [
        "**Constraint 1:**  \n",
        "\n",
        "$$g_1 : \\mathbf{w}^\\top\\mathbf{1}-1 = 0 $$\n",
        "\n",
        "This constraint implies that the portfolio weights must sum to one. This can be written as the following linear equation:\n",
        "\n",
        "$$ 1w_1 + 1w_2 + \\dots + 1w_N = 1.$$\n"
      ]
    },
    {
      "cell_type": "markdown",
      "metadata": {
        "id": "DJ0tZtdyLKB-"
      },
      "source": [
        "**Constraint 2:**\n",
        "\n",
        "$$g_2 : \\mathbf{w}^\\top\\mathbf{\\mu} -r = 0$$\n",
        "\n",
        "Constraint 2 restricts the portfolio choices to those with a return matching the target return $r$. Writing this as a linear equation, we obtain:\n",
        "\n",
        "$$\\mu_1 w_1 + \\mu_2 w2 + \\dots + \\mu_N w_N = r$$"
      ]
    },
    {
      "cell_type": "markdown",
      "metadata": {
        "id": "b0S7g-rtM9qa"
      },
      "source": [
        "**Constraint 3:**\n",
        "\n",
        "$$g_3 : w_i \\geq 0 \\ \\forall i = 1, \\dots, N$$\n",
        "\n",
        "Lastly, the no short-sale constraint. This implies that all the weights must be non-negative and can be represented as a system of linear inequalities as follows:\n",
        "\n",
        "$$\\begin{align}\n",
        "1w_1 + 0w_2 + &\\dots + 0w_N \\geq 0 \\\\\n",
        "0w_1 + 1w_2 + &\\dots + 0w_N \\geq 0 \\\\\n",
        "&\\dots \\\\\n",
        "0w_1 + 0w_2 + &\\dots + 1w_N \\geq 0\n",
        "\\end{align}$$"
      ]
    },
    {
      "cell_type": "markdown",
      "metadata": {
        "id": "zrXcQufBNwBX"
      },
      "source": [
        "Putting it all together, we obtain\n",
        "\n",
        "$$\\begin{bmatrix}\n",
        "1 & 1 & \\dots & 1 \\\\\n",
        "\\mu_1 & \\mu_2 & \\dots & \\mu_N \\\\\n",
        "1 & 0 & \\dots & 0 \\\\\n",
        "\\vdots & \\vdots & \\ddots & \\vdots \\\\\n",
        "0 & 0 & \\dots & 1\n",
        "\\end{bmatrix}^\\top \\mathbf{w} \\geq \\begin{bmatrix}1 \\\\ r \\\\ 0 \\\\\\vdots \\\\ 0\\end{bmatrix},\n",
        "$$\n",
        "\n",
        "which is of the required form $A^\\top \\mathbf{b} \\geq \\mathbf{b_0}$."
      ]
    },
    {
      "cell_type": "code",
      "metadata": {
        "id": "YpkHHfWvR9qJ"
      },
      "source": [
        "# Create a function to return the optimal portfolio with no short-sale\n",
        "w_star_long <- function(r) {\n",
        "  # Build the constraint matrix A\n",
        "  Amat <- rbind(ones, mu, diag(length(mu)))\n",
        "  # Build the b0 constraint vector\n",
        "  b0 <- c(1, r, rep(0, length(mu)))\n",
        "  # Solve the optimization problem using the library\n",
        "  result <- solve.QP(\n",
        "    Dmat = 2 * V, # The D matrix\n",
        "    dvec = rep(0, length(mu)), # The d vector\n",
        "    Amat = t(Amat), # The A matrix\n",
        "    bvec = b0, # The b0 vector,\n",
        "    meq = 2) # Number of equality constraints in the matrix (MUST BE FIRST ROWS!)\n",
        "  # Return the solution (i.e. the weight vector)\n",
        "  return(result$solution)\n",
        "}"
      ],
      "execution_count": null,
      "outputs": []
    },
    {
      "cell_type": "code",
      "metadata": {
        "id": "F-vUtyicQ7vO"
      },
      "source": [
        "# Take 1000 linearly spaced values between 0 and 5, these are the target returns\n",
        "r_levels <- seq(min(mu) + 0.0001, max(mu) - 0.00001, length.out = n_points)\n",
        "# Initialize a list of NA for the portfolio standard deviations\n",
        "ps <- rep(NA, n_points)\n",
        "# Iterate over the different target return values\n",
        "for(i in 1:n_points) {\n",
        "  # Compute the optimal portfolio weights for this level of return\n",
        "  w <- w_star_long(r_levels[i])\n",
        "  # Compute and store the standard deviation of this portfolio\n",
        "  ps[i] <- sigma(w)\n",
        "}\n",
        "# Append to dataframe\n",
        "efficient_frontier$stdev_long <- ps"
      ],
      "execution_count": null,
      "outputs": []
    },
    {
      "cell_type": "code",
      "metadata": {
        "colab": {
          "base_uri": "https://localhost:8080/",
          "height": 737
        },
        "id": "CIsg3IgNSylH",
        "outputId": "ffb2727e-a827-4bcb-f372-53f83ab1420a"
      },
      "source": [
        "# Compute location of w_mv and w_1 portfolios\n",
        "r_mv <- t(w_mv) %*% mu\n",
        "sigma_mv <- sigma(w_mv)\n",
        "r_1 <- t(w_1) %*% mu\n",
        "sigma_1 <- sigma(w_1)\n",
        "# Set up the initial plot call, define the data for x and y\n",
        "ggplot(data = efficient_frontier, mapping = aes(x = returns)) +\n",
        "  geom_line(aes(y = stdev), color = \"#2471a3\") +\n",
        "  geom_text(x = Inf, y = Inf, color = \"#2471a3\", label = \"Efficient frontier\", \n",
        "    size = 6, hjust=5, vjust=5) +\n",
        "  geom_line(aes(y = stdev_long), color=\"#884ea0\") +\n",
        "  geom_text(x = Inf, y = Inf, color = \"#884ea0\", label = \"Efficient frontier (no short-sale)\", \n",
        "    size = 6, hjust=1.5, vjust=10) +\n",
        "# Add a single point for the minimum variance portfolio\n",
        "  geom_point(aes(x = r_mv, y = sigma_mv), color = \"#a93226\", size = 3) +\n",
        "  geom_text(aes(x = r_mv, y = sigma_mv), label = \"Minimum variance portfolio\", \n",
        "    hjust = -0.1, size = 6, color = \"#a93226\") + \n",
        "  # annotate(\"text\", xmin = r_mv, y = sigma_mv, label = \"Minimum variance portfolio\") + \n",
        "# Add a single point for w_1\n",
        "  geom_point(aes(x = r_1, y = sigma(w_1)), color = \"#f39c12\", size = 3) +\n",
        "  geom_text(aes(x = r_1, y = sigma_1), label = \"Portfolio with weights w_1\", \n",
        "    hjust = -0.1, size = 6, color = \"#f39c12\") + \n",
        "# Add title and axis titles\n",
        "  labs(title = \"Mean-variance efficient frontier\", x = \"Portfolio returns\",\n",
        "    y = \"Portfolio standard deviation\") +\n",
        "# Prettify the plot\n",
        "  theme_bw() +\n",
        "# Flip the axes\n",
        "  coord_flip()"
      ],
      "execution_count": null,
      "outputs": [
        {
          "output_type": "display_data",
          "data": {
            "image/png": "[encoded data removed]",
            "text/plain": [
              "plot without title"
            ]
          },
          "metadata": {
            "image/png": {
              "width": 960,
              "height": 720
            }
          }
        }
      ]
    }
  ]
}